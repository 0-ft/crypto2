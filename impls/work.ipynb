{
 "cells": [
  {
   "cell_type": "code",
   "execution_count": 5,
   "id": "88df6661-8251-4c5f-9071-1730771fdec6",
   "metadata": {},
   "outputs": [],
   "source": [
    "from utils import *\n",
    "from pohlig import *\n",
    "from disclog import *\n",
    "from red import *\n",
    "from rsa import *\n",
    "from elgamal import *\n",
    "from diffie import *"
   ]
  },
  {
   "cell_type": "code",
   "execution_count": 7,
   "id": "3c265b4c-92aa-4cf8-984e-88880d46cf49",
   "metadata": {},
   "outputs": [
    {
     "name": "stdout",
     "output_type": "stream",
     "text": [
      "initializing RSA\n",
      "   p is prime ✅\n",
      "   q is prime ✅\n",
      "   n = pq = 95477\n",
      "   phi = 94860\n",
      "generating keypair with PUBLIC e = 247\n",
      "   e < phi ✅\n",
      "   e is coprime to phi ✅\n",
      "   computing modular inverse of 247 mod 94860\n",
      "      247 is coprime to 94860 ✅\n",
      "         94860 = 384 * 247 + 12\n",
      "         247 = 20 * 12 + 7\n",
      "         12 = 1 * 7 + 5\n",
      "         7 = 1 * 5 + 2\n",
      "         5 = 2 * 2 + 1\n",
      "      solved ax + bn = 1: a = 103, b = -39557\n",
      "      negative b, b+n=55550\n",
      "      modular inverse of 247 mod 94860 is 55303 🏁\n",
      "   d = 55303\n",
      "   keypair = (pk, sk) = ((247, 95477), (55303, 95477)) 🏁\n",
      "(55303, 95477)\n",
      "signed message 2, sig = 81901 🏁\n"
     ]
    },
    {
     "data": {
      "text/plain": [
       "81901"
      ]
     },
     "execution_count": 7,
     "metadata": {},
     "output_type": "execute_result"
    }
   ],
   "source": [
    "# q1\n",
    "r = RSA(p=307, q=311)\n",
    "p, s = r.keypair(247)\n",
    "print(s)\n",
    "r.sign(2, s[0])"
   ]
  },
  {
   "cell_type": "code",
   "execution_count": null,
   "id": "82418b29",
   "metadata": {},
   "outputs": [],
   "source": []
  }
 ],
 "metadata": {
  "kernelspec": {
   "display_name": "crypto",
   "language": "python",
   "name": "python3"
  },
  "language_info": {
   "codemirror_mode": {
    "name": "ipython",
    "version": 3
   },
   "file_extension": ".py",
   "mimetype": "text/x-python",
   "name": "python",
   "nbconvert_exporter": "python",
   "pygments_lexer": "ipython3",
   "version": "3.11.5"
  }
 },
 "nbformat": 4,
 "nbformat_minor": 5
}
